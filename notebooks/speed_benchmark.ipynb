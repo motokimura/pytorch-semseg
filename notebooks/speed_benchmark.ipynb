{
 "cells": [
  {
   "cell_type": "code",
   "execution_count": 1,
   "metadata": {},
   "outputs": [],
   "source": [
    "import time\n",
    "\n",
    "import torch\n",
    "\n",
    "import sys\n",
    "sys.path.append('../')\n",
    "from ptsemseg.models import get_model"
   ]
  },
  {
   "cell_type": "code",
   "execution_count": 2,
   "metadata": {},
   "outputs": [],
   "source": [
    "n_classes = 19\n",
    "unet_baseline = get_model({'arch': 'unet_baseline'}, n_classes)\n",
    "unet_alpha0125 = get_model({'arch': 'unet_octconv', 'alpha': 0.125}, n_classes)\n",
    "unet_alpha0250 = get_model({'arch': 'unet_octconv', 'alpha': 0.250}, n_classes)\n",
    "unet_alpha0500 = get_model({'arch': 'unet_octconv', 'alpha': 0.500}, n_classes)\n",
    "unet_alpha0750 = get_model({'arch': 'unet_octconv', 'alpha': 0.750}, n_classes)\n",
    "unet_alpha0875 = get_model({'arch': 'unet_octconv', 'alpha': 0.875},n_classes)"
   ]
  },
  {
   "cell_type": "code",
   "execution_count": 3,
   "metadata": {},
   "outputs": [],
   "source": [
    "def measure(model, dummy_input, trial_num=50, warmup=5, device='cpu'):\n",
    "    model.eval()\n",
    "    model = model.to(device)\n",
    "    dummy_input = dummy_input.to(device)\n",
    "    \n",
    "    for _ in range(warmup):\n",
    "        with torch.no_grad():\n",
    "            model(dummy_input)\n",
    "    \n",
    "    start = time.time()\n",
    "    for _ in range(trial_num):\n",
    "        with torch.no_grad():\n",
    "            model(dummy_input)\n",
    "    end = time.time()\n",
    "    \n",
    "    average = (end - start) / trial_num\n",
    "    return average"
   ]
  },
  {
   "cell_type": "markdown",
   "metadata": {},
   "source": [
    "## CPU"
   ]
  },
  {
   "cell_type": "code",
   "execution_count": 4,
   "metadata": {},
   "outputs": [],
   "source": [
    "kargs_cpu = {'trial_num': 100, 'warmup': 10, 'device': 'cpu'}\n",
    "\n",
    "input_shape = [3, 224, 224]\n",
    "dummy_input = torch.zeros(input_shape)\n",
    "dummy_input = dummy_input.unsqueeze(0)"
   ]
  },
  {
   "cell_type": "code",
   "execution_count": 5,
   "metadata": {},
   "outputs": [
    {
     "name": "stderr",
     "output_type": "stream",
     "text": [
      "/Users/motoki.kimura/work/pytorch-semseg/venv/lib/python3.7/site-packages/torch/nn/modules/upsampling.py:129: UserWarning: nn.Upsample is deprecated. Use nn.functional.interpolate instead.\n",
      "  warnings.warn(\"nn.{} is deprecated. Use nn.functional.interpolate instead.\".format(self.name))\n",
      "/Users/motoki.kimura/work/pytorch-semseg/venv/lib/python3.7/site-packages/torch/nn/functional.py:2423: UserWarning: Default upsampling behavior when mode=bilinear is changed to align_corners=False since 0.4.0. Please specify align_corners=True if the old behavior is desired. See the documentation of nn.Upsample for details.\n",
      "  \"See the documentation of nn.Upsample for details.\".format(mode))\n"
     ]
    },
    {
     "name": "stdout",
     "output_type": "stream",
     "text": [
      "cpu, alpha=0.00 [sec/image]:  0.6190911912918091\n"
     ]
    }
   ],
   "source": [
    "print('cpu, alpha=0.00 [sec/image]: ', measure(unet_baseline, dummy_input, **kargs_cpu))"
   ]
  },
  {
   "cell_type": "code",
   "execution_count": 6,
   "metadata": {},
   "outputs": [
    {
     "name": "stdout",
     "output_type": "stream",
     "text": [
      "cpu, alpha=0.125 [sec/image]:  0.6813036799430847\n"
     ]
    }
   ],
   "source": [
    "print('cpu, alpha=0.125 [sec/image]: ', measure(unet_alpha0125, dummy_input, **kargs_cpu))"
   ]
  },
  {
   "cell_type": "code",
   "execution_count": 7,
   "metadata": {},
   "outputs": [
    {
     "name": "stdout",
     "output_type": "stream",
     "text": [
      "cpu, alpha=0.25 [sec/image]:  0.5867833709716797\n"
     ]
    }
   ],
   "source": [
    "print('cpu, alpha=0.25 [sec/image]: ', measure(unet_alpha0250, dummy_input, **kargs_cpu))"
   ]
  },
  {
   "cell_type": "code",
   "execution_count": 8,
   "metadata": {},
   "outputs": [
    {
     "name": "stdout",
     "output_type": "stream",
     "text": [
      "cpu, alpha=0.50 [sec/image]:  0.3993032813072205\n"
     ]
    }
   ],
   "source": [
    "print('cpu, alpha=0.50 [sec/image]: ', measure(unet_alpha0500, dummy_input, **kargs_cpu))"
   ]
  },
  {
   "cell_type": "code",
   "execution_count": 9,
   "metadata": {},
   "outputs": [
    {
     "name": "stdout",
     "output_type": "stream",
     "text": [
      "cpu, alpha=0.75 [sec/image]:  0.2945333814620972\n"
     ]
    }
   ],
   "source": [
    "print('cpu, alpha=0.75 [sec/image]: ', measure(unet_alpha0750, dummy_input, **kargs_cpu))"
   ]
  },
  {
   "cell_type": "code",
   "execution_count": 10,
   "metadata": {},
   "outputs": [
    {
     "name": "stdout",
     "output_type": "stream",
     "text": [
      "cpu, alpha=0.875 [sec/image]:  0.2541110181808472\n"
     ]
    }
   ],
   "source": [
    "print('cpu, alpha=0.875 [sec/image]: ', measure(unet_alpha0875, dummy_input, **kargs_cpu))"
   ]
  },
  {
   "cell_type": "markdown",
   "metadata": {},
   "source": [
    "## GPU"
   ]
  },
  {
   "cell_type": "code",
   "execution_count": null,
   "metadata": {},
   "outputs": [],
   "source": [
    "kargs_gpu = {'trial_num': 300, 'warmup': 30, 'device': 'cuda:0'}\n",
    "\n",
    "input_shape = [3, 1024, 2048]\n",
    "dummy_input = torch.zeros(input_shape)\n",
    "dummy_input = dummy_input.unsqueeze(0)"
   ]
  },
  {
   "cell_type": "code",
   "execution_count": null,
   "metadata": {},
   "outputs": [],
   "source": [
    "print('gpu, alpha=0.00 [sec/image]: ', measure(unet_baseline, dummy_input, **kargs_gpu))"
   ]
  },
  {
   "cell_type": "code",
   "execution_count": null,
   "metadata": {},
   "outputs": [],
   "source": [
    "print('gpu, alpha=0.125 [sec/image]: ', measure(unet_alpha0125, dummy_input, **kargs_gpu))"
   ]
  },
  {
   "cell_type": "code",
   "execution_count": null,
   "metadata": {},
   "outputs": [],
   "source": [
    "print('gpu, alpha=0.25 [sec/image]: ', measure(unet_alpha0250, dummy_input, **kargs_gpu))"
   ]
  },
  {
   "cell_type": "code",
   "execution_count": null,
   "metadata": {},
   "outputs": [],
   "source": [
    "print('gpu, alpha=0.50 [sec/image]: ', measure(unet_alpha0500, dummy_input, **kargs_gpu))"
   ]
  },
  {
   "cell_type": "code",
   "execution_count": null,
   "metadata": {},
   "outputs": [],
   "source": [
    "print('gpu, alpha=0.75 [sec/image]: ', measure(unet_alpha0750, dummy_input, **kargs_gpu))"
   ]
  },
  {
   "cell_type": "code",
   "execution_count": null,
   "metadata": {},
   "outputs": [],
   "source": [
    "print('gpu, alpha=0.875 [sec/image]: ', measure(unet_alpha0875, dummy_input, **kargs_gpu))"
   ]
  },
  {
   "cell_type": "code",
   "execution_count": null,
   "metadata": {},
   "outputs": [],
   "source": []
  }
 ],
 "metadata": {
  "kernelspec": {
   "display_name": "Python 3",
   "language": "python",
   "name": "python3"
  },
  "language_info": {
   "codemirror_mode": {
    "name": "ipython",
    "version": 3
   },
   "file_extension": ".py",
   "mimetype": "text/x-python",
   "name": "python",
   "nbconvert_exporter": "python",
   "pygments_lexer": "ipython3",
   "version": "3.7.3"
  }
 },
 "nbformat": 4,
 "nbformat_minor": 2
}
